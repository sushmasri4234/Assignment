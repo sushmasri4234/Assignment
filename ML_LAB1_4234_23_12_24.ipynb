{
  "nbformat": 4,
  "nbformat_minor": 0,
  "metadata": {
    "colab": {
      "provenance": [],
      "authorship_tag": "ABX9TyOF0zW/SjygZbf1KI0Xpq0j",
      "include_colab_link": true
    },
    "kernelspec": {
      "name": "python3",
      "display_name": "Python 3"
    },
    "language_info": {
      "name": "python"
    }
  },
  "cells": [
    {
      "cell_type": "markdown",
      "metadata": {
        "id": "view-in-github",
        "colab_type": "text"
      },
      "source": [
        "<a href=\"https://colab.research.google.com/github/sushmasri4234/Assignment/blob/main/ML_LAB1_4234_23_12_24.ipynb\" target=\"_parent\"><img src=\"https://colab.research.google.com/assets/colab-badge.svg\" alt=\"Open In Colab\"/></a>"
      ]
    },
    {
      "cell_type": "code",
      "execution_count": null,
      "metadata": {
        "colab": {
          "base_uri": "https://localhost:8080/"
        },
        "id": "N8LkHriaqpoh",
        "outputId": "3d52f558-a9b2-46eb-d10b-b46bba63b402"
      },
      "outputs": [
        {
          "output_type": "stream",
          "name": "stdout",
          "text": [
            "[['sunny', 'warm', 'normal', 'strong', 'warm', 'same', 'yes'], ['sunny', 'warm', 'high', 'strong', 'warm', 'same', 'yes'], ['rainy', 'cold', 'high', 'strong', 'warm', 'change', 'no'], ['sunny', 'warm', 'high', 'strong', 'cold', 'change', 'yes']]\n"
          ]
        }
      ],
      "source": [
        "import csv\n",
        "a = []\n",
        "with open('/content/sample_data/FindS (1).csv','r')as csvfile:\n",
        "  for row in csv.reader(csvfile):\n",
        "    a.append(row)\n",
        "print(a)\n"
      ]
    },
    {
      "cell_type": "code",
      "source": [
        "print(\"\\n The total number of training instances are : \",len(a))\n",
        "num_attribute = len(a[0])-1\n",
        "num_attribute"
      ],
      "metadata": {
        "colab": {
          "base_uri": "https://localhost:8080/"
        },
        "id": "sYpyjk_xr3Tg",
        "outputId": "be7d8942-c8de-4566-aa85-65d85e8b8ac1"
      },
      "execution_count": null,
      "outputs": [
        {
          "output_type": "stream",
          "name": "stdout",
          "text": [
            "\n",
            " The total number of training instances are :  4\n"
          ]
        },
        {
          "output_type": "execute_result",
          "data": {
            "text/plain": [
              "6"
            ]
          },
          "metadata": {},
          "execution_count": 5
        }
      ]
    },
    {
      "cell_type": "code",
      "source": [
        "print(\"\\n The initial hypothesis is : \")\n",
        "hypothesis = ['0'] * num_attribute\n",
        "print(hypothesis)\n",
        "\n"
      ],
      "metadata": {
        "colab": {
          "base_uri": "https://localhost:8080/"
        },
        "id": "uMKppqyXuWoJ",
        "outputId": "bd2c9962-8ea4-4407-ecb9-8e43372dddd4"
      },
      "execution_count": null,
      "outputs": [
        {
          "output_type": "stream",
          "name": "stdout",
          "text": [
            "\n",
            " The initial hypothesis is : \n",
            "['0', '0', '0', '0', '0', '0']\n"
          ]
        }
      ]
    },
    {
      "cell_type": "code",
      "source": [
        "for i in range(0,len(a)):\n",
        "  if a[i][num_attribute] == 'yes':\n",
        "    for j in range(0,num_attribute):\n",
        "      if hypothesis[j] == '0' or hypothesis[j] == a[i][j]:\n",
        "        hypothesis[j] = a[i][j]\n",
        "      else:\n",
        "        hypothesis[j] = '?'\n",
        "  print(\"\\n The hypothesis for the training instance {} is :\\n\".format(i+1),hypothesis)\n",
        "print(\"\\n The Maximum Specific hypothesis for the training instance is : \")\n",
        "print(hypothesis)"
      ],
      "metadata": {
        "colab": {
          "base_uri": "https://localhost:8080/"
        },
        "id": "_FZM6A9Ot62h",
        "outputId": "b8ce4df6-66ba-4c35-ec48-4c9e04ef1da0"
      },
      "execution_count": null,
      "outputs": [
        {
          "output_type": "stream",
          "name": "stdout",
          "text": [
            "\n",
            " The hypothesis for the training instance 1 is :\n",
            " ['sunny', 'warm', '?', 'strong', '?', '?']\n",
            "\n",
            " The hypothesis for the training instance 2 is :\n",
            " ['sunny', 'warm', '?', 'strong', '?', '?']\n",
            "\n",
            " The hypothesis for the training instance 3 is :\n",
            " ['sunny', 'warm', '?', 'strong', '?', '?']\n",
            "\n",
            " The hypothesis for the training instance 4 is :\n",
            " ['sunny', 'warm', '?', 'strong', '?', '?']\n",
            "\n",
            " The Maximum Specific hypothesis for the training instance is : \n",
            "['sunny', 'warm', '?', 'strong', '?', '?']\n"
          ]
        }
      ]
    }
  ]
}